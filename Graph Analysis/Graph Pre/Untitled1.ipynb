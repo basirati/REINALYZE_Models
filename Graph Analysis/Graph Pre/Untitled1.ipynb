{
 "cells": [
  {
   "cell_type": "code",
   "execution_count": 1,
   "metadata": {},
   "outputs": [],
   "source": [
    "import networkx as nx\n",
    "import ipdb\n",
    "\n",
    "#utils ......................................\n",
    "\n",
    "def nodeToNums(node):\n",
    "    if node == None:\n",
    "        return {}\n",
    "    if type(node) == set:\n",
    "        return node\n",
    "    node = node[1:-1]\n",
    "    node = node.replace(' ', '')\n",
    "    nums = node.split(',')\n",
    "    res = set()\n",
    "    for n in nums:\n",
    "        if n.isdecimal:\n",
    "            res.add(int(n))\n",
    "    return res\n",
    "\n",
    "\n",
    "def mergeCycleDicts(c1, c2):\n",
    "    res = c1.copy()\n",
    "    for i in c2:\n",
    "        if not i in c1:\n",
    "            res[i] = c2[i]\n",
    "        else:\n",
    "            for j in c2[i]:\n",
    "                res[i].append(j)\n",
    "    return res\n",
    "\n",
    "def isSubsetOfAny(sets, l):\n",
    "    for s in sets:\n",
    "        if l <= s:\n",
    "            return True\n",
    "    return False\n",
    "\n",
    "def makeMergedNodeName(c):\n",
    "    name = set()\n",
    "    for n in c:\n",
    "        name = name | nodeToNums(n)\n",
    "    name = str(name)\n",
    "    return name\n",
    "\n",
    "def getCurrentNode(G, n):\n",
    "    if n in G:\n",
    "        return n\n",
    "    for node in G:\n",
    "        if nodeToNums(n) < nodeToNums(node):\n",
    "            return node\n",
    "    return None"
   ]
  },
  {
   "cell_type": "code",
   "execution_count": 39,
   "metadata": {},
   "outputs": [],
   "source": [
    "def getCycle(G, node, stack):\n",
    "    #print(\"stack\", stack, \"node\", node)\n",
    "    if node in stack:\n",
    "        i = stack.index(node)\n",
    "        print(\"cycle:\", stack[i:]+[node])\n",
    "    else:\n",
    "        stack.append(node)\n",
    "        for nei in G.neighbors(node):\n",
    "            getCycle(G, nei, stack)\n",
    "        stack.pop()\n",
    "        "
   ]
  },
  {
   "cell_type": "code",
   "execution_count": 41,
   "metadata": {},
   "outputs": [
    {
     "name": "stdout",
     "output_type": "stream",
     "text": [
      "cycle: [1, 3, 1]\n",
      "cycle: [0, 1, 3, 4, 0]\n",
      "cycle: [1, 3, 4, 1]\n",
      "cycle: [0, 1, 4, 0]\n",
      "cycle: [1, 4, 1]\n",
      "cycle: [3, 1, 3]\n",
      "cycle: [0, 3, 1, 4, 0]\n",
      "cycle: [1, 4, 1]\n",
      "cycle: [0, 3, 4, 0]\n",
      "cycle: [3, 4, 1, 3]\n",
      "cycle: [4, 1, 4]\n",
      "cycle: [0, 4, 0]\n",
      "cycle: [1, 3, 1]\n",
      "cycle: [4, 1, 3, 4]\n",
      "cycle: [4, 1, 4]\n"
     ]
    }
   ],
   "source": [
    "g = nx.DiGraph()\n",
    "g.add_edge(0, 1)\n",
    "g.add_edge(0, 2)\n",
    "g.add_edge(0, 3)\n",
    "g.add_edge(0, 4)\n",
    "g.add_edge(1, 3)\n",
    "g.add_edge(1, 4)\n",
    "g.add_edge(3, 1)\n",
    "g.add_edge(3, 2)\n",
    "g.add_edge(3, 4)\n",
    "g.add_edge(4, 0)\n",
    "g.add_edge(4, 1)\n",
    "#nx.draw(g, with_labels=True)\n",
    "getCycle(g, 0, [])"
   ]
  },
  {
   "cell_type": "code",
   "execution_count": 47,
   "metadata": {},
   "outputs": [
    {
     "name": "stdout",
     "output_type": "stream",
     "text": [
      "{2}\n",
      "{0, 1, 3, 4}\n"
     ]
    },
    {
     "data": {
      "image/png": "[encoded data removed]",
      "text/plain": [
       "<Figure size 432x288 with 1 Axes>"
      ]
     },
     "metadata": {},
     "output_type": "display_data"
    }
   ],
   "source": [
    "g = nx.DiGraph()\n",
    "g.add_edge(0, 1)\n",
    "g.add_edge(0, 2)\n",
    "g.add_edge(0, 3)\n",
    "g.add_edge(0, 4)\n",
    "g.add_edge(1, 3)\n",
    "g.add_edge(1, 4)\n",
    "g.add_edge(3, 1)\n",
    "g.add_edge(3, 2)\n",
    "g.add_edge(3, 4)\n",
    "g.add_edge(4, 0)\n",
    "g.add_edge(4, 1)\n",
    "nx.draw(g, with_labels=True)\n",
    "x = nx.strongly_connected_components(g)\n",
    "for xx in x:\n",
    "    print(xx)"
   ]
  },
  {
   "cell_type": "code",
   "execution_count": 48,
   "metadata": {},
   "outputs": [
    {
     "data": {
      "image/png": "[encoded data removed]",
      "text/plain": [
       "<Figure size 432x288 with 1 Axes>"
      ]
     },
     "metadata": {},
     "output_type": "display_data"
    }
   ],
   "source": [
    "g2 = nx.condensation(g)\n",
    "nx.draw(g2, with_labels=True)"
   ]
  }
 ],
 "metadata": {
  "kernelspec": {
   "display_name": "Python 3",
   "language": "python",
   "name": "python3"
  },
  "language_info": {
   "codemirror_mode": {
    "name": "ipython",
    "version": 3
   },
   "file_extension": ".py",
   "mimetype": "text/x-python",
   "name": "python",
   "nbconvert_exporter": "python",
   "pygments_lexer": "ipython3",
   "version": "3.6.5"
  }
 },
 "nbformat": 4,
 "nbformat_minor": 2
}
