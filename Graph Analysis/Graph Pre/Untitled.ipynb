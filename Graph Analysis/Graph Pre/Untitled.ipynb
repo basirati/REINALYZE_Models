{
 "cells": [
  {
   "cell_type": "markdown",
   "metadata": {},
   "source": [
    "x = []\n",
    "x.append(2)\n",
    "x.append(99)\n",
    "x.append(3)\n",
    "x.pop()\n",
    "x\n"
   ]
  },
  {
   "cell_type": "code",
   "execution_count": 72,
   "metadata": {},
   "outputs": [
    {
     "data": {
      "text/plain": [
       "True"
      ]
     },
     "execution_count": 72,
     "metadata": {},
     "output_type": "execute_result"
    }
   ],
   "source": [
    "x = [{2,3}, {4,5,6}, {2,3,5}]\n",
    "def isSubsetOfAny(sets, l):\n",
    "    for s in sets:\n",
    "        if l <= s:\n",
    "            return True\n",
    "    return False\n",
    "        \n",
    "isSubsetOfAny(x, set([5, 3]))"
   ]
  },
  {
   "cell_type": "code",
   "execution_count": 5,
   "metadata": {},
   "outputs": [],
   "source": [
    "import ipdb"
   ]
  }
 ],
 "metadata": {
  "kernelspec": {
   "display_name": "Python 3",
   "language": "python",
   "name": "python3"
  },
  "language_info": {
   "codemirror_mode": {
    "name": "ipython",
    "version": 3
   },
   "file_extension": ".py",
   "mimetype": "text/x-python",
   "name": "python",
   "nbconvert_exporter": "python",
   "pygments_lexer": "ipython3",
   "version": "3.6.5"
  }
 },
 "nbformat": 4,
 "nbformat_minor": 2
}
