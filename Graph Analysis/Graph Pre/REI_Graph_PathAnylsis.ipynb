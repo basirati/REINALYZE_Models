{
 "cells": [
  {
   "cell_type": "code",
   "execution_count": 1,
   "metadata": {},
   "outputs": [],
   "source": [
    "import networkx as nx\n",
    "import operator"
   ]
  },
  {
   "cell_type": "code",
   "execution_count": 2,
   "metadata": {},
   "outputs": [],
   "source": [
    "#transofrms a directed cyclic graph to directed acyclic graph by compressing the components of the graph into one node\n",
    "def transformToDAG(G):\n",
    "    g2 = nx.DiGraph()\n",
    "    components = list(nx.strongly_connected_components(G))\n",
    "    for component in components:\n",
    "        new_node = ','.join(str(e) for e in component)\n",
    "        if not(new_node in g2.nodes):\n",
    "            g2.add_node(new_node, size=len(component))\n",
    "    \n",
    "        suc_nodes = set()\n",
    "        for e in component:\n",
    "            for nei in G.neighbors(e):\n",
    "                if not (nei in component):\n",
    "                    suc_nodes.add(nei)\n",
    "        for node in suc_nodes:\n",
    "            for c in components:\n",
    "                if node in c:\n",
    "                    to_n = ','.join(str(e) for e in c)\n",
    "                    break\n",
    "            if not(to_n in g2.nodes):\n",
    "                g2.add_node(to_n, size=len(component))\n",
    "            if not((new_node, to_n) in g2.edges):\n",
    "                g2.add_edge(new_node, to_n, weight=g2.node[to_n]['size'])\n",
    "    return g2\n",
    "    "
   ]
  },
  {
   "cell_type": "code",
   "execution_count": 3,
   "metadata": {},
   "outputs": [],
   "source": [
    "#finds all the bridges based on importance --> based on their weight and returns a soreted list of couples of edge and weigth\n",
    "def getBridges(G):\n",
    "    bridges = {}\n",
    "    for brg in nx.bridges(G.to_undirected()):\n",
    "        if (brg[1], brg[0]) in G.edges:\n",
    "            bridges[(brg[1], brg[0])] = G.get_edge_data(brg[1], brg[0], 'weight')['weight']\n",
    "        else:\n",
    "            bridges[brg] = G.get_edge_data(brg[0], brg[1], 'weight')['weight']\n",
    "    sorted_brgs = sorted(bridges.items(), key=operator.itemgetter(1), reverse=True)\n",
    "    return sorted_brgs"
   ]
  },
  {
   "cell_type": "code",
   "execution_count": 4,
   "metadata": {},
   "outputs": [],
   "source": [
    "def getLongestPath(G):\n",
    "    return nx.dag_longest_path(G)"
   ]
  },
  {
   "cell_type": "code",
   "execution_count": 29,
   "metadata": {},
   "outputs": [],
   "source": [
    "#find shortest (longest) paths between the root and all leaves --> as parallel paths\n",
    "def calculatePathWeight(G, path):\n",
    "    w = 0\n",
    "    i = 0\n",
    "    while i < (len(path) - 1):\n",
    "        w = w + G[path[i]][path[i+1]]['weight']\n",
    "        i = i + 1\n",
    "    return w\n",
    "\n",
    "def getParallelPaths(G):\n",
    "    leaves = []\n",
    "    roots = []\n",
    "    for n in G.nodes:\n",
    "        if G.out_degree(n) == 0:\n",
    "            leaves.append(n)\n",
    "        if G.in_degree(n) == 0:\n",
    "             roots.append(n)\n",
    "    print(leaves)\n",
    "    print(roots)\n",
    "    paths = []\n",
    "    for l in leaves:\n",
    "        for r in roots:\n",
    "            if not l in nx.descendants(G, r):\n",
    "                continue\n",
    "            p = nx.shortest_path(G, r, l, weight='weight')\n",
    "            paths.append((p, calculatePathWeight(G, p)))\n",
    "    paths.sort(key=operator.itemgetter(1), reverse=True)\n",
    "    return paths"
   ]
  },
  {
   "cell_type": "code",
   "execution_count": 232,
   "metadata": {},
   "outputs": [],
   "source": [
    "#list(nx.all_simple_paths(G, i, j)) for i in G.nodes for j in G.nodes if i != j and nx.has_path(G, i, j)]\n",
    "#mytree = nx.maxi_spanning_tree(myg.to_undirected())\n",
    "#B = nx.dag_to_branching(G)"
   ]
  },
  {
   "cell_type": "code",
   "execution_count": 83,
   "metadata": {},
   "outputs": [],
   "source": [
    "#creates edge weight based on node weight\n",
    "def loadEdgeWeights(G):\n",
    "    for e in G.edges:\n",
    "        G[e[0]][e[1]]['weight'] = G.node[e[1]]['w']"
   ]
  },
  {
   "cell_type": "code",
   "execution_count": 72,
   "metadata": {},
   "outputs": [],
   "source": [
    "g =nx.DiGraph()\n",
    "g.add_node(1, w=1)\n",
    "g.add_node(2, w=1)\n",
    "g.add_node(3, w=10)\n",
    "g.add_node(4, w=1)\n",
    "g.add_node(5, w=1)\n",
    "g.add_node(6, w=2)\n",
    "g.add_node(7, w=3)\n",
    "g.add_node(8, w=2)"
   ]
  },
  {
   "cell_type": "code",
   "execution_count": 73,
   "metadata": {},
   "outputs": [],
   "source": [
    "g.add_edge(1,2)\n",
    "g.add_edge(2,3)\n",
    "g.add_edge(3,4)\n",
    "g.add_edge(4,5)\n",
    "g.add_edge(2,6)\n",
    "g.add_edge(6,3)\n",
    "g.add_edge(6,7)\n",
    "g.add_edge(7,8)\n",
    "g.add_edge(8,4)\n",
    "g.add_edge(8,6)\n",
    "g.add_edge(4,2)"
   ]
  },
  {
   "cell_type": "code",
   "execution_count": 149,
   "metadata": {},
   "outputs": [
    {
     "data": {
      "image/png": "[encoded data removed]",
      "text/plain": [
       "<Figure size 432x288 with 1 Axes>"
      ]
     },
     "metadata": {},
     "output_type": "display_data"
    }
   ],
   "source": [
    "#getLongestPath(g)\n",
    "#dag_g = transformToDAG(g)\n",
    "nx.draw(g, with_labels=True)\n"
   ]
  },
  {
   "cell_type": "code",
   "execution_count": 214,
   "metadata": {},
   "outputs": [],
   "source": [
    "def DFS(G, n, end, visited, paths):\n",
    "    if n == end:\n",
    "        paths.append(visited.copy())\n",
    "        return paths\n",
    "    visited.append(n)\n",
    "    for nei in G.neighbors(n):\n",
    "        if not nei in visited:\n",
    "            DFS(G, nei, end, visited, paths)\n",
    "    if visited:\n",
    "        visited.pop()\n",
    "    return paths\n",
    "    \n",
    "            \n",
    "def getPaths(G, start, end):\n",
    "    res = []\n",
    "    for n in G.neighbors(start):\n",
    "        res = res + DFS(G, n, end, [start], [])\n",
    "    paths = []\n",
    "    for path in res:\n",
    "        paths.append(path + [end])\n",
    "    return paths"
   ]
  },
  {
   "cell_type": "code",
   "execution_count": 215,
   "metadata": {},
   "outputs": [],
   "source": [
    "def isSequenceInList(seq, liste):\n",
    "    try:\n",
    "        index = liste.index(seq[0])\n",
    "    except:\n",
    "        return False\n",
    "\n",
    "    for i in range(len(seq)):\n",
    "        try:\n",
    "            if not seq[i] == liste[index + i]:\n",
    "                return False\n",
    "        except:\n",
    "            return False\n",
    "    return True"
   ]
  },
  {
   "cell_type": "code",
   "execution_count": 230,
   "metadata": {},
   "outputs": [],
   "source": [
    "def getVitalNodesBetween(paths, bridges, start, end):\n",
    "    res = {}\n",
    "    for br in bridges:\n",
    "        res[br[0]] = 0\n",
    "        for path in paths:\n",
    "            if isSequenceInList(br[0], path):\n",
    "                res[br[0]] += 1\n",
    "    res = sorted(res.items(), key=operator.itemgetter(1), reverse=True)\n",
    "    final_res = []\n",
    "    for item in res:\n",
    "        if item[1] > 1:\n",
    "            if not item[0][0] == start:\n",
    "                final_res.append(item[0][0])\n",
    "            if not item[0][1] == end:\n",
    "                final_res.append(item[0][1])\n",
    "    return final_res"
   ]
  },
  {
   "cell_type": "code",
   "execution_count": 231,
   "metadata": {},
   "outputs": [
    {
     "data": {
      "text/plain": [
       "[2, 4]"
      ]
     },
     "execution_count": 231,
     "metadata": {},
     "output_type": "execute_result"
    }
   ],
   "source": [
    "paths = getPaths(g, 1, 5)\n",
    "bridges = getBridges(g)\n",
    "getVitalNodesBetween(paths, bridges, 1, 5)"
   ]
  }
 ],
 "metadata": {
  "kernelspec": {
   "display_name": "Python 3",
   "language": "python",
   "name": "python3"
  },
  "language_info": {
   "codemirror_mode": {
    "name": "ipython",
    "version": 3
   },
   "file_extension": ".py",
   "mimetype": "text/x-python",
   "name": "python",
   "nbconvert_exporter": "python",
   "pygments_lexer": "ipython3",
   "version": "3.7.4"
  }
 },
 "nbformat": 4,
 "nbformat_minor": 2
}
