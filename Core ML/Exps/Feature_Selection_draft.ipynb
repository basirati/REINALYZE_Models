{
 "cells": [
  {
   "cell_type": "code",
   "execution_count": 26,
   "metadata": {},
   "outputs": [],
   "source": [
    "from sklearn.linear_model import SGDClassifier\n",
    "from sklearn.neighbors.nearest_centroid import NearestCentroid\n",
    "from sklearn.naive_bayes import GaussianNB\n",
    "from sklearn.naive_bayes import BernoulliNB\n",
    "from sklearn.svm import SVC\n",
    "\n",
    "from sklearn.feature_extraction import DictVectorizer\n",
    "\n",
    "from sklearn import metrics\n",
    "from sklearn.metrics import classification_report, precision_score, recall_score, make_scorer\n",
    "\n",
    "\n",
    "from sklearn.model_selection import StratifiedShuffleSplit\n",
    "from sklearn.model_selection import cross_val_score\n",
    "from sklearn.model_selection import train_test_split\n",
    "from sklearn.model_selection import GridSearchCV\n",
    "from sklearn.model_selection import cross_validate\n",
    "\n",
    "import numpy as np\n",
    "\n",
    "import json\n",
    "\n",
    "import Feature_Extraction as fe"
   ]
  },
  {
   "cell_type": "code",
   "execution_count": 19,
   "metadata": {},
   "outputs": [],
   "source": [
    "import scipy.stats as stats"
   ]
  },
  {
   "cell_type": "code",
   "execution_count": 2,
   "metadata": {},
   "outputs": [],
   "source": [
    "# load the dataset\n",
    "\n",
    "data = open('data/tousend_cons_rels.CSV', encoding=\"ANSI\").read()\n",
    "label, r1, r2, rmix = [], [], [], []\n",
    "size = 500\n",
    "for i, line in enumerate(data.split(\"\\n\")):\n",
    "    if i >= size:\n",
    "        break\n",
    "    if line != '' and line.isspace() != True:\n",
    "        content = line.split(';')\n",
    "        label.append(content[0])\n",
    "        r1.append(content[1])\n",
    "        r2.append(content[2])\n",
    "        rmix.append(content[1]+content[2])\n",
    "        \n",
    "index = 0\n",
    "size = len(label)\n",
    "x = []\n",
    "while index < size:\n",
    "    x.append(fe.createFBag(r1[index], r2[index]))\n",
    "    index = index + 1\n",
    "    \n",
    "vec = DictVectorizer()\n",
    "\n",
    "xx = vec.fit_transform(x).toarray()\n",
    "\n",
    "yy = []\n",
    "for l in label:\n",
    "    if l == 'true':\n",
    "        yy.append(1)\n",
    "    else:\n",
    "        yy.append(-1)"
   ]
  },
  {
   "cell_type": "code",
   "execution_count": 57,
   "metadata": {},
   "outputs": [],
   "source": [
    "from sklearn import feature_selection\n",
    "from sklearn import preprocessing\n",
    "from sklearn.model_selection import StratifiedKFold\n",
    "from sklearn.ensemble import ExtraTreesRegressor\n",
    "from sklearn.pipeline import Pipeline\n",
    "import numpy as np\n",
    "import pandas as pd\n",
    "\n",
    "import matplotlib.pyplot as plt\n",
    "import seaborn as sns\n",
    "import array"
   ]
  },
  {
   "cell_type": "code",
   "execution_count": 44,
   "metadata": {},
   "outputs": [],
   "source": [
    "class PipelineRFE(Pipeline):\n",
    "\n",
    "    def fit(self, X, y=None, **fit_params):\n",
    "        super(PipelineRFE, self).fit(X, y, **fit_params)\n",
    "        self.feature_importances_ = self.steps[-1][-1].feature_importances_\n",
    "        return self"
   ]
  },
  {
   "cell_type": "code",
   "execution_count": 45,
   "metadata": {},
   "outputs": [],
   "source": [
    "feature_names = ['subjsubj', 'subjobj', 'objsubj', 'objobj', 'asubjsubj', 'asubjobj', 'aobjsubj', 'aobjobj',\n",
    "                 'noun_ovlap_1_2' , 'noun_ovlap_2_1', 'verb_ovlap_1_2', 'verb_ovlap_2_1', \n",
    "                 'M_1', 'root_1', 'M_2', 'root_2']"
   ]
  },
  {
   "cell_type": "code",
   "execution_count": 88,
   "metadata": {},
   "outputs": [],
   "source": [
    "X_tmp = []\n",
    "for instance in x:\n",
    "    tmp = []\n",
    "    for feature in instance:\n",
    "        tmp.append(instance[feature])\n",
    "    X_tmp.append(tmp)\n",
    "X = np.array(X_tmp)\n",
    "\n",
    "\n",
    "le = preprocessing.LabelEncoder()\n",
    "for i in range(len(X[0])):\n",
    "    X[:,i] = le.fit_transform(X[:, i])"
   ]
  },
  {
   "cell_type": "code",
   "execution_count": 128,
   "metadata": {},
   "outputs": [
    {
     "name": "stderr",
     "output_type": "stream",
     "text": [
      "C:\\Users\\ga75xoh\\AppData\\Local\\Programs\\Python\\Python37\\lib\\site-packages\\sklearn\\utils\\validation.py:532: FutureWarning: Beginning in version 0.22, arrays of bytes/strings will be converted to decimal numbers if dtype='numeric'. It is recommended that you convert the array to a float dtype before using it in scikit-learn, for example by using your_array = your_array.astype(np.float64).\n",
      "  FutureWarning)\n",
      "C:\\Users\\ga75xoh\\AppData\\Local\\Programs\\Python\\Python37\\lib\\site-packages\\sklearn\\utils\\validation.py:532: FutureWarning: Beginning in version 0.22, arrays of bytes/strings will be converted to decimal numbers if dtype='numeric'. It is recommended that you convert the array to a float dtype before using it in scikit-learn, for example by using your_array = your_array.astype(np.float64).\n",
      "  FutureWarning)\n",
      "C:\\Users\\ga75xoh\\AppData\\Local\\Programs\\Python\\Python37\\lib\\site-packages\\sklearn\\utils\\validation.py:532: FutureWarning: Beginning in version 0.22, arrays of bytes/strings will be converted to decimal numbers if dtype='numeric'. It is recommended that you convert the array to a float dtype before using it in scikit-learn, for example by using your_array = your_array.astype(np.float64).\n",
      "  FutureWarning)\n",
      "C:\\Users\\ga75xoh\\AppData\\Local\\Programs\\Python\\Python37\\lib\\site-packages\\sklearn\\utils\\validation.py:532: FutureWarning: Beginning in version 0.22, arrays of bytes/strings will be converted to decimal numbers if dtype='numeric'. It is recommended that you convert the array to a float dtype before using it in scikit-learn, for example by using your_array = your_array.astype(np.float64).\n",
      "  FutureWarning)\n",
      "C:\\Users\\ga75xoh\\AppData\\Local\\Programs\\Python\\Python37\\lib\\site-packages\\sklearn\\utils\\validation.py:532: FutureWarning: Beginning in version 0.22, arrays of bytes/strings will be converted to decimal numbers if dtype='numeric'. It is recommended that you convert the array to a float dtype before using it in scikit-learn, for example by using your_array = your_array.astype(np.float64).\n",
      "  FutureWarning)\n",
      "C:\\Users\\ga75xoh\\AppData\\Local\\Programs\\Python\\Python37\\lib\\site-packages\\sklearn\\utils\\validation.py:532: FutureWarning: Beginning in version 0.22, arrays of bytes/strings will be converted to decimal numbers if dtype='numeric'. It is recommended that you convert the array to a float dtype before using it in scikit-learn, for example by using your_array = your_array.astype(np.float64).\n",
      "  FutureWarning)\n",
      "C:\\Users\\ga75xoh\\AppData\\Local\\Programs\\Python\\Python37\\lib\\site-packages\\sklearn\\utils\\validation.py:532: FutureWarning: Beginning in version 0.22, arrays of bytes/strings will be converted to decimal numbers if dtype='numeric'. It is recommended that you convert the array to a float dtype before using it in scikit-learn, for example by using your_array = your_array.astype(np.float64).\n",
      "  FutureWarning)\n",
      "C:\\Users\\ga75xoh\\AppData\\Local\\Programs\\Python\\Python37\\lib\\site-packages\\sklearn\\utils\\validation.py:532: FutureWarning: Beginning in version 0.22, arrays of bytes/strings will be converted to decimal numbers if dtype='numeric'. It is recommended that you convert the array to a float dtype before using it in scikit-learn, for example by using your_array = your_array.astype(np.float64).\n",
      "  FutureWarning)\n",
      "C:\\Users\\ga75xoh\\AppData\\Local\\Programs\\Python\\Python37\\lib\\site-packages\\sklearn\\utils\\validation.py:532: FutureWarning: Beginning in version 0.22, arrays of bytes/strings will be converted to decimal numbers if dtype='numeric'. It is recommended that you convert the array to a float dtype before using it in scikit-learn, for example by using your_array = your_array.astype(np.float64).\n",
      "  FutureWarning)\n",
      "C:\\Users\\ga75xoh\\AppData\\Local\\Programs\\Python\\Python37\\lib\\site-packages\\sklearn\\utils\\validation.py:532: FutureWarning: Beginning in version 0.22, arrays of bytes/strings will be converted to decimal numbers if dtype='numeric'. It is recommended that you convert the array to a float dtype before using it in scikit-learn, for example by using your_array = your_array.astype(np.float64).\n",
      "  FutureWarning)\n",
      "C:\\Users\\ga75xoh\\AppData\\Local\\Programs\\Python\\Python37\\lib\\site-packages\\sklearn\\utils\\validation.py:532: FutureWarning: Beginning in version 0.22, arrays of bytes/strings will be converted to decimal numbers if dtype='numeric'. It is recommended that you convert the array to a float dtype before using it in scikit-learn, for example by using your_array = your_array.astype(np.float64).\n",
      "  FutureWarning)\n",
      "C:\\Users\\ga75xoh\\AppData\\Local\\Programs\\Python\\Python37\\lib\\site-packages\\sklearn\\utils\\validation.py:532: FutureWarning: Beginning in version 0.22, arrays of bytes/strings will be converted to decimal numbers if dtype='numeric'. It is recommended that you convert the array to a float dtype before using it in scikit-learn, for example by using your_array = your_array.astype(np.float64).\n",
      "  FutureWarning)\n"
     ]
    },
    {
     "data": {
      "text/plain": [
       "10"
      ]
     },
     "execution_count": 128,
     "metadata": {},
     "output_type": "execute_result"
    }
   ],
   "source": [
    "pipe = PipelineRFE(\n",
    "    [\n",
    "        ('std_scaler', preprocessing.StandardScaler()),\n",
    "        (\"ET\", ExtraTreesRegressor(n_estimators=250))\n",
    "    ]\n",
    ")\n",
    "#SVC(kernel='linear', C=1)\n",
    "#neg_mean_squared_error\n",
    "feature_selector_cv = feature_selection.RFECV(pipe, cv=10, step=1, scoring=\"neg_mean_squared_error\")\n",
    "feature_selector_cv.fit(X, yy)\n",
    "\n",
    "feature_selector_cv.n_features_"
   ]
  },
  {
   "cell_type": "code",
   "execution_count": 107,
   "metadata": {},
   "outputs": [
    {
     "name": "stdout",
     "output_type": "stream",
     "text": [
      "subjsubj\n",
      "subjobj\n",
      "objobj\n",
      "noun_ovlap_1_2\n",
      "noun_ovlap_2_1\n",
      "verb_ovlap_1_2\n",
      "verb_ovlap_2_1\n",
      "M_1\n",
      "root_1\n",
      "root_2\n"
     ]
    }
   ],
   "source": [
    "for i in range(len(feature_selector_cv.support_)):\n",
    "    if feature_selector_cv.support_[i]:\n",
    "        print(feature_names[i])"
   ]
  },
  {
   "cell_type": "code",
   "execution_count": 155,
   "metadata": {},
   "outputs": [
    {
     "name": "stdout",
     "output_type": "stream",
     "text": [
      "Optimal number of features : 9\n"
     ]
    }
   ],
   "source": [
    "from sklearn.feature_selection import RFE, RFECV\n",
    "clf = SVC(kernel='linear', C=1)\n",
    "rfecv = RFECV(estimator=clf, step=1, cv=StratifiedKFold(10),scoring='recall')\n",
    "rfecv.fit(xx, yy)\n",
    "print(\"Optimal number of features : %d\" % rfecv.n_features_)\n",
    "#neg_mean_squared_error\n",
    "#feature_selector_cv = feature_selection.RFECV(pipe, cv=10, step=1, scoring=\"precision\")\n",
    "#feature_selector_cv.fit(xx, yy)"
   ]
  },
  {
   "cell_type": "code",
   "execution_count": 156,
   "metadata": {},
   "outputs": [
    {
     "data": {
      "image/png": "[encoded data removed]",
      "text/plain": [
       "<Figure size 432x288 with 1 Axes>"
      ]
     },
     "metadata": {
      "needs_background": "light"
     },
     "output_type": "display_data"
    }
   ],
   "source": [
    "# Plot number of features VS. cross-validation scores\n",
    "plt.figure()\n",
    "plt.xlabel(\"Number of features selected\")\n",
    "plt.ylabel(\"Cross validation score (recall)\")\n",
    "plt.plot(range(1, len(rfecv.grid_scores_) + 1), rfecv.grid_scores_)\n",
    "plt.show()"
   ]
  },
  {
   "cell_type": "code",
   "execution_count": 3,
   "metadata": {},
   "outputs": [],
   "source": [
    "index = 0\n",
    "size = len(label)\n",
    "x_NoOVLAP = []\n",
    "while index < size:\n",
    "    x_NoOVLAP.append(fe.createFBagNoOVLAP(r1[index], r2[index]))\n",
    "    index = index + 1\n",
    "    \n",
    "vec = DictVectorizer()\n",
    "xx_NoOVLAP = vec.fit_transform(x_NoOVLAP).toarray()"
   ]
  },
  {
   "cell_type": "code",
   "execution_count": 5,
   "metadata": {},
   "outputs": [],
   "source": [
    "index = 0\n",
    "size = len(label)\n",
    "x_NoSUBJOBJ = []\n",
    "while index < size:\n",
    "    x_NoSUBJOBJ.append(fe.createFBagNoSUBJOBJ(r1[index], r2[index]))\n",
    "    index = index + 1\n",
    "    \n",
    "vec = DictVectorizer()\n",
    "xx_NoSUBJOBJ = vec.fit_transform(x_NoSUBJOBJ).toarray()"
   ]
  },
  {
   "cell_type": "code",
   "execution_count": 6,
   "metadata": {},
   "outputs": [],
   "source": [
    "index = 0\n",
    "size = len(label)\n",
    "x_NoModal = []\n",
    "while index < size:\n",
    "    x_NoModal.append(fe.createFBagNoModal(r1[index], r2[index]))\n",
    "    index = index + 1\n",
    "    \n",
    "vec = DictVectorizer()\n",
    "xx_NoModal = vec.fit_transform(x_NoModal).toarray()"
   ]
  },
  {
   "cell_type": "code",
   "execution_count": 135,
   "metadata": {},
   "outputs": [
    {
     "name": "stdout",
     "output_type": "stream",
     "text": [
      "ALL INCLUDED:\n",
      "DescribeResult(nobs=10, minmax=(0.75, 1.0), mean=0.925, variance=0.014583333333333334, skewness=-0.8728715609439706, kurtosis=-1.238095238095237)\n",
      "DescribeResult(nobs=10, minmax=(0.2, 1.0), mean=0.6799999999999999, variance=0.046222222222222234, skewness=-0.8598938232981903, kurtosis=0.7307692307692286)\n",
      "DescribeResult(nobs=10, minmax=(0.33333333333333337, 1.0), mean=0.7638888888888887, variance=0.03690843621399178, skewness=-1.017482691454412, kurtosis=0.5089050492296812)\n",
      "\n"
     ]
    }
   ],
   "source": [
    "kfold = 10\n",
    "skf = StratifiedShuffleSplit(n_splits=kfold)\n",
    "clf = SVC(kernel='linear', C=1)\n",
    "myscores = ['precision', 'recall', 'f1']\n",
    "\n",
    "nested_score = cross_validate(clf, X=xx, y=yy, cv=skf, scoring=myscores)\n",
    "#nested_score_NoOVLAP = cross_validate(clf, X=xx_NoOVLAP, y=yy, cv=skf, scoring=myscores)\n",
    "#nested_score_NoSUBJOBJ = cross_validate(clf, X=xx_NoSUBJOBJ, y=yy, cv=skf, scoring=myscores)\n",
    "#nested_score_NoModal = cross_validate(clf, X=xx_NoModal, y=yy, cv=skf, scoring=myscores)\n",
    "\n",
    "\n",
    "print(\"ALL INCLUDED:\")\n",
    "print(stats.describe(nested_score['test_precision']))\n",
    "print(stats.describe(nested_score['test_recall']))\n",
    "print(stats.describe(nested_score['test_f1']))\n",
    "print()\n",
    "\n",
    "#print(\"NO OVERLAP:\")\n",
    "#print(stats.describe(nested_score_NoOVLAP['test_precision']))\n",
    "#print(stats.describe(nested_score_NoOVLAP['test_recall']))\n",
    "#print(stats.describe(nested_score_NoOVLAP['test_f1']))\n",
    "#print()\n",
    "#print(\"NO SUBJECT OBJECT:\")\n",
    "#print(stats.describe(nested_score_NoSUBJOBJ['test_precision']))\n",
    "#print(stats.describe(nested_score_NoSUBJOBJ['test_recall']))\n",
    "#print(stats.describe(nested_score_NoSUBJOBJ['test_f1']))\n",
    "#print()\n",
    "#print(\"NO MODAL FEATURES:\")\n",
    "#print(stats.describe(nested_score_NoModal['test_precision']))\n",
    "#print(stats.describe(nested_score_NoModal['test_recall']))\n",
    "#print(stats.describe(nested_score_NoModal['test_f1']))"
   ]
  },
  {
   "cell_type": "code",
   "execution_count": 157,
   "metadata": {},
   "outputs": [
    {
     "data": {
      "text/plain": [
       "array([[0.5, 0. , 0.5, ..., 0. , 0.5, 0. ],\n",
       "       [0.5, 0. , 0.5, ..., 0. , 0.5, 0. ],\n",
       "       [0. , 0. , 0. , ..., 0. , 0.5, 0. ],\n",
       "       ...,\n",
       "       [0. , 0. , 0. , ..., 0. , 0. , 0. ],\n",
       "       [0. , 0. , 0. , ..., 0. , 0.5, 0. ],\n",
       "       [0. , 0. , 0. , ..., 0. , 0.3, 0. ]])"
      ]
     },
     "execution_count": 157,
     "metadata": {},
     "output_type": "execute_result"
    }
   ],
   "source": [
    "xx_NoModal"
   ]
  },
  {
   "cell_type": "code",
   "execution_count": 166,
   "metadata": {},
   "outputs": [
    {
     "data": {
      "text/plain": [
       "array([2., 6.])"
      ]
     },
     "execution_count": 166,
     "metadata": {},
     "output_type": "execute_result"
    }
   ],
   "source": [
    "a = np.array([])\n",
    "b = np.array([2, 6])\n",
    "np.concatenate((a, b), axis=None)"
   ]
  }
 ],
 "metadata": {
  "kernelspec": {
   "display_name": "Python 3",
   "language": "python",
   "name": "python3"
  },
  "language_info": {
   "codemirror_mode": {
    "name": "ipython",
    "version": 3
   },
   "file_extension": ".py",
   "mimetype": "text/x-python",
   "name": "python",
   "nbconvert_exporter": "python",
   "pygments_lexer": "ipython3",
   "version": "3.7.4"
  }
 },
 "nbformat": 4,
 "nbformat_minor": 2
}
