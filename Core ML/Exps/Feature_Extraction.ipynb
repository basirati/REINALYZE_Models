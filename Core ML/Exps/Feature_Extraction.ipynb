{
 "cells": [
  {
   "cell_type": "code",
   "execution_count": 1,
   "metadata": {},
   "outputs": [],
   "source": [
    "import pandas as pd\n",
    "import numpy as np\n",
    "import spacy\n",
    "import nltk\n",
    "from nltk.corpus import wordnet"
   ]
  },
  {
   "cell_type": "code",
   "execution_count": 2,
   "metadata": {},
   "outputs": [
    {
     "name": "stderr",
     "output_type": "stream",
     "text": [
      "[nltk_data] Downloading package stopwords to\n",
      "[nltk_data]     C:\\Users\\ga75xoh\\AppData\\Roaming\\nltk_data...\n",
      "[nltk_data]   Package stopwords is already up-to-date!\n"
     ]
    },
    {
     "data": {
      "text/plain": [
       "True"
      ]
     },
     "execution_count": 2,
     "metadata": {},
     "output_type": "execute_result"
    }
   ],
   "source": [
    "model='en_core_web_sm'\n",
    "nlp = spacy.load(model)\n",
    "nltk.download('stopwords')"
   ]
  },
  {
   "cell_type": "code",
   "execution_count": 3,
   "metadata": {},
   "outputs": [],
   "source": [
    "def getOrigDep(word):\n",
    "    if (word.dep_ != 'conj'):\n",
    "        return word.dep_\n",
    "    return getOrigDep(word.head)"
   ]
  },
  {
   "cell_type": "code",
   "execution_count": 4,
   "metadata": {},
   "outputs": [],
   "source": [
    "def getSynAnt(word):\n",
    "    synonyms = [] \n",
    "    antonyms = []\n",
    "    for syn in wordnet.synsets(word): \n",
    "        for l in syn.lemmas(): \n",
    "            synonyms.append(l.name()) \n",
    "            if l.antonyms(): \n",
    "                antonyms.append(l.antonyms()[0].name()) \n",
    "    return synonyms, antonyms"
   ]
  },
  {
   "cell_type": "code",
   "execution_count": 5,
   "metadata": {},
   "outputs": [],
   "source": [
    "def getWUPSimilarity(w1, w2):\n",
    "    doc1 = nlp(w1)\n",
    "    doc2 = nlp(w2)\n",
    "    if doc1[0].lemma_ == doc2[0].lemma_:\n",
    "        return 1\n",
    "    synonyms, _ = getSynAnt(w1)\n",
    "    if w2 in synonyms:\n",
    "        return 0.9\n",
    "    synonyms, _ = getSynAnt(w2)\n",
    "    if w1 in synonyms:\n",
    "        return 0.9\n",
    "\n",
    "    #NOUN\n",
    "    synw1s = wordnet.synsets(w1, wordnet.NOUN)\n",
    "    if len(synw1s) > 0:\n",
    "        synw2s = wordnet.synsets(w2, wordnet.NOUN)\n",
    "        if len(synw2s) > 0:\n",
    "            return synw1s[0].wup_similarity(synw2s[0])\n",
    "        synw2s = wordnet.synsets(w2, wordnet.VERB)\n",
    "        if len(synw2s) > 0:\n",
    "            return synw1s[0].wup_similarity(synw2s[0])\n",
    "        synw2s = wordnet.synsets(w2, wordnet.ADJ)\n",
    "        if len(synw2s) > 0:\n",
    "            return synw1s[0].wup_similarity(synw2s[0])\n",
    "        synw2s = wordnet.synsets(w2, wordnet.ADV)\n",
    "        if len(synw2s) > 0:\n",
    "            return synw1s[0].wup_similarity(synw2s[0])\n",
    "    #VERB\n",
    "    synw1s = wordnet.synsets(w1, wordnet.VERB)\n",
    "    if len(synw1s) > 0:\n",
    "        synw2s = wordnet.synsets(w2, wordnet.NOUN)\n",
    "        if len(synw2s) > 0:\n",
    "            return synw1s[0].wup_similarity(synw2s[0])\n",
    "        synw2s = wordnet.synsets(w2, wordnet.VERB)\n",
    "        if len(synw2s) > 0:\n",
    "            return synw1s[0].wup_similarity(synw2s[0])\n",
    "        synw2s = wordnet.synsets(w2, wordnet.ADJ)\n",
    "        if len(synw2s) > 0:\n",
    "            return synw1s[0].wup_similarity(synw2s[0])\n",
    "        synw2s = wordnet.synsets(w2, wordnet.ADV)\n",
    "        if len(synw2s) > 0:\n",
    "            return synw1s[0].wup_similarity(synw2s[0])\n",
    "    #ADJ\n",
    "    synw1s = wordnet.synsets(w1, wordnet.ADJ)\n",
    "    if len(synw1s) > 0:\n",
    "        synw2s = wordnet.synsets(w2, wordnet.NOUN)\n",
    "        if len(synw2s) > 0:\n",
    "            return synw1s[0].wup_similarity(synw2s[0])\n",
    "        synw2s = wordnet.synsets(w2, wordnet.VERB)\n",
    "        if len(synw2s) > 0:\n",
    "            return synw1s[0].wup_similarity(synw2s[0])\n",
    "        synw2s = wordnet.synsets(w2, wordnet.ADJ)\n",
    "        if len(synw2s) > 0:\n",
    "            return synw1s[0].wup_similarity(synw2s[0])\n",
    "        synw2s = wordnet.synsets(w2, wordnet.ADV)\n",
    "        if len(synw2s) > 0:\n",
    "            return synw1s[0].wup_similarity(synw2s[0])\n",
    "    #ADV\n",
    "    synw1s = wordnet.synsets(w1, wordnet.ADV)\n",
    "    if len(synw1s) > 0:\n",
    "        synw2s = wordnet.synsets(w2, wordnet.NOUN)\n",
    "        if len(synw2s) > 0:\n",
    "            return synw1s[0].wup_similarity(synw2s[0])\n",
    "        synw2s = wordnet.synsets(w2, wordnet.VERB)\n",
    "        if len(synw2s) > 0:\n",
    "            return synw1s[0].wup_similarity(synw2s[0])\n",
    "        synw2s = wordnet.synsets(w2, wordnet.ADJ)\n",
    "        if len(synw2s) > 0:\n",
    "            return synw1s[0].wup_similarity(synw2s[0])\n",
    "        synw2s = wordnet.synsets(w2, wordnet.ADV)\n",
    "        if len(synw2s) > 0:\n",
    "            return synw1s[0].wup_similarity(synw2s[0])"
   ]
  },
  {
   "cell_type": "code",
   "execution_count": 6,
   "metadata": {},
   "outputs": [],
   "source": [
    "def getAntonymity(w1, w2): \n",
    "    antonyms = [] \n",
    "    for syn in wordnet.synsets(w1): \n",
    "        for l in syn.lemmas(): \n",
    "            if l.antonyms():\n",
    "                antonyms.append(l.antonyms()[0].name()) \n",
    "    if len(antonyms) < 1:\n",
    "        return 0\n",
    "    if w2 in antonyms:\n",
    "        return 1\n",
    "    avg = 0\n",
    "    for a in antonyms:\n",
    "        tmp = getWUPSimilarity(w2, a)\n",
    "        if tmp == None:\n",
    "            tmp = 0\n",
    "        avg = avg + tmp\n",
    "    if len(antonyms) > 0:\n",
    "        avg = avg / len(antonyms)\n",
    "    else:\n",
    "        return 0\n",
    "    return avg"
   ]
  },
  {
   "cell_type": "code",
   "execution_count": 7,
   "metadata": {},
   "outputs": [],
   "source": [
    "def normalizeSimAnt(sim):\n",
    "    if sim == None:\n",
    "        sim = 'nothing'\n",
    "    elif sim < 0.2:\n",
    "        sim = 'low'\n",
    "    elif 0.2 <= sim < 0.4:\n",
    "        sim = 'some'\n",
    "    elif 0.4 <= sim < 0.6:\n",
    "        sim = 'medium'\n",
    "    elif 0.6 <= sim < 0.8:\n",
    "        sim = 'much'\n",
    "    elif 0.8 <= sim < 0.95:\n",
    "        sim = 'high'\n",
    "    elif 0.95 <= sim:\n",
    "        sim = 'strong'\n",
    "        \n",
    "    return sim\n",
    "    "
   ]
  },
  {
   "cell_type": "code",
   "execution_count": 8,
   "metadata": {},
   "outputs": [],
   "source": [
    "def getStcSubObjFeatures(s1, s2):\n",
    "    doc1 = nlp(s1)\n",
    "    doc2 = nlp(s2)\n",
    "    sfts = {'subjsubj' : 0, 'subjsubjn': 0, 'subjobj' : 0, 'subjobjn' : 0, 'objsubj' : 0, 'objsubjn' : 0, 'objobj' : 0, 'objobjn' : 0}\n",
    "    afts = {'asubjsubj' : 0, 'asubjsubjn': 0, 'asubjobj' : 0, 'asubjobjn' : 0, 'aobjsubj' : 0, 'aobjsubjn' : 0, 'aobjobj' : 0, 'aobjobjn' : 0}\n",
    "    state = 'none'\n",
    "    for t1 in doc1:\n",
    "        if getOrigDep(t1).endswith('subj'):\n",
    "            state = 'subj'\n",
    "        elif getOrigDep(t1).endswith('obj'):\n",
    "            state = 'obj'\n",
    "        else:\n",
    "            continue\n",
    "        state2 = 'none'\n",
    "        for t2 in doc2:\n",
    "            if getOrigDep(t2).endswith('subj'):\n",
    "                state2 = 'subj'\n",
    "            elif getOrigDep(t2).endswith('obj'):\n",
    "                state2 = 'obj'\n",
    "            else:\n",
    "                continue\n",
    "            #similarity = normalizeSimAnt(getWUPSimilarity(t1.text, t2.text))\n",
    "            #antonymity = normalizeSimAnt(getAntonymity(t1.text, t2.text))\n",
    "            #if similarity != 'nothing' and similarity != 'low':\n",
    "            #    features.append('SIMILAR_' + state + state2 + '_' + similarity)\n",
    "            #if antonymity != 'nothing' and antonymity != 'low':\n",
    "            #    features.append('ANTONYM_' + state + state2 + '_' + antonymity)\n",
    "            similarity = getWUPSimilarity(t1.text, t2.text)\n",
    "            if similarity == None:\n",
    "                similarity = 0\n",
    "            antonymity = getAntonymity(t1.text, t2.text)\n",
    "            sfts[state+state2] = sfts[state+state2] + similarity\n",
    "            sfts[state+state2+'n'] = sfts[state+state2+'n'] + 1\n",
    "            afts['a'+state+state2] = afts['a'+state+state2] + antonymity\n",
    "            afts['a'+state+state2+'n'] = afts['a'+state+state2+'n'] + 1\n",
    "    \n",
    "    if sfts['subjsubj' + 'n'] > 0:\n",
    "        sfts['subjsubj'] = normalizeSimAnt(sfts['subjsubj'] / sfts['subjsubj' + 'n'])\n",
    "    if sfts['subjobj' + 'n'] > 0:\n",
    "        sfts['subjobj'] = normalizeSimAnt(sfts['subjobj'] / sfts['subjobj' + 'n'])\n",
    "    if sfts['objsubj' + 'n']  > 0:\n",
    "        sfts['objsubj'] = normalizeSimAnt(sfts['objsubj'] / sfts['objsubj' + 'n'])\n",
    "    if sfts['objobj' + 'n'] > 0:\n",
    "        sfts['objobj'] = normalizeSimAnt(sfts['objobj'] / sfts['objobj' + 'n'])\n",
    "    \n",
    "    if afts['asubjsubj' + 'n'] > 0:\n",
    "        afts['asubjsubj'] = normalizeSimAnt(afts['asubjsubj'] / afts['asubjsubj' + 'n'])\n",
    "    if afts['asubjobj' + 'n'] > 0:\n",
    "        afts['asubjobj'] = normalizeSimAnt(afts['asubjobj'] / afts['asubjobj' + 'n'])\n",
    "    if afts['aobjsubj' + 'n'] > 0:\n",
    "        afts['aobjsubj'] = normalizeSimAnt(afts['aobjsubj'] / afts['aobjsubj' + 'n'])\n",
    "    if afts['aobjobj' + 'n'] > 0:\n",
    "        afts['aobjobj'] = normalizeSimAnt(afts['aobjobj'] / afts['aobjobj' + 'n'])\n",
    "    \n",
    "    sfts.update(afts)\n",
    "    return sfts\n",
    "    "
   ]
  },
  {
   "cell_type": "code",
   "execution_count": 9,
   "metadata": {},
   "outputs": [],
   "source": [
    "def normalizeSimAnt2(sim):\n",
    "    if sim == None:\n",
    "        sim = 0\n",
    "    elif sim < 0.2:\n",
    "        sim = 0\n",
    "    elif 0.2 <= sim < 0.8:\n",
    "        sim = 0.5\n",
    "    elif 0.8 <= sim:\n",
    "        sim = 1\n",
    "        \n",
    "    return sim"
   ]
  },
  {
   "cell_type": "code",
   "execution_count": 10,
   "metadata": {},
   "outputs": [],
   "source": [
    "def getStcSubObjFeatures2(s1, s2):\n",
    "    doc1 = nlp(s1)\n",
    "    doc2 = nlp(s2)\n",
    "    sfts = {'subjsubj' : 0, 'subjobj' : 0, 'objsubj' : 0, 'objobj' : 0}\n",
    "    afts = {'asubjsubj' : 0, 'asubjobj' : 0, 'aobjsubj' : 0, 'aobjobj' : 0}\n",
    "    state = 'none'\n",
    "    for t1 in doc1:\n",
    "        if getOrigDep(t1).endswith('subj'):\n",
    "            state = 'subj'\n",
    "        elif getOrigDep(t1).endswith('obj'):\n",
    "            state = 'obj'\n",
    "        else:\n",
    "            continue\n",
    "        state2 = 'none'\n",
    "        for t2 in doc2:\n",
    "            if getOrigDep(t2).endswith('subj'):\n",
    "                state2 = 'subj'\n",
    "            elif getOrigDep(t2).endswith('obj'):\n",
    "                state2 = 'obj'\n",
    "            else:\n",
    "                continue\n",
    "          \n",
    "            similarity = normalizeSimAnt2(getWUPSimilarity(t1.text, t2.text))\n",
    "            antonymity = normalizeSimAnt2(getAntonymity(t1.text, t2.text))\n",
    "            if similarity > 0:\n",
    "                if sfts[state+state2] < similarity:\n",
    "                    sfts[state+state2] = similarity\n",
    "            if antonymity > 0:\n",
    "                    if afts['a'+state+state2] < antonymity:\n",
    "                        afts['a'+state+state2] = antonymity\n",
    "    \n",
    "    sfts.update(afts)\n",
    "    return sfts"
   ]
  },
  {
   "cell_type": "code",
   "execution_count": 11,
   "metadata": {},
   "outputs": [],
   "source": [
    "\n",
    "def isStopWord(w):\n",
    "    if w.pos_ == 'DET':\n",
    "        return True\n",
    "    if w in set(nltk.corpus.stopwords.words('english')):\n",
    "        return True\n",
    "    return False"
   ]
  },
  {
   "cell_type": "code",
   "execution_count": 12,
   "metadata": {},
   "outputs": [],
   "source": [
    "def getNounLemmas(s):\n",
    "    res = []\n",
    "    doc = nlp(s)\n",
    "    for nc in doc.noun_chunks:\n",
    "        for t in nc:\n",
    "            if not(isStopWord(t)):\n",
    "                res.append(t.lemma_)\n",
    "    return res"
   ]
  },
  {
   "cell_type": "code",
   "execution_count": 13,
   "metadata": {},
   "outputs": [],
   "source": [
    "def getNounSimilarityPortion(r1, r2):\n",
    "    ns1 = getNounLemmas(r1)\n",
    "    ns2 = getNounLemmas(r2)\n",
    "    if len(ns1) < 1 or len(ns2) < 1:\n",
    "        return 'low'\n",
    "    num1 = 0\n",
    "    for n in ns1:\n",
    "        for m in ns2:\n",
    "            if n == m:\n",
    "                num1 = num1 + 1\n",
    "                break\n",
    "    if len(ns1) > 0:\n",
    "        ovlap = num1/len(ns1)\n",
    "    else:\n",
    "        ovlap = 0\n",
    "    if ovlap < 0.2:\n",
    "        ovlap = 0\n",
    "    elif 0.2 <= ovlap < 0.4:\n",
    "        ovlap = 0.3\n",
    "    elif 0.4 <= ovlap < 0.6:\n",
    "        ovlap = 0.5\n",
    "    elif 0.6 <= ovlap < 0.8:\n",
    "        ovlap = 0.7\n",
    "    elif 0.8 <= ovlap:\n",
    "        ovlap = 1\n",
    "    return ovlap"
   ]
  },
  {
   "cell_type": "code",
   "execution_count": 14,
   "metadata": {},
   "outputs": [],
   "source": [
    "def getNSPFeatures(r1, r2):\n",
    "    res = {'noun_ovlap_1_2' : getNounSimilarityPortion(r1, r2), 'noun_ovlap_2_1' : getNounSimilarityPortion(r2, r1)}\n",
    "    return res"
   ]
  },
  {
   "cell_type": "code",
   "execution_count": 15,
   "metadata": {},
   "outputs": [],
   "source": [
    "def getVerbLemmas(s):\n",
    "    res = []\n",
    "    doc = nlp(s)\n",
    "    for t in doc:\n",
    "        if t.tag_.startswith('VB'):\n",
    "            res.append(t.lemma_)\n",
    "    return res"
   ]
  },
  {
   "cell_type": "code",
   "execution_count": 16,
   "metadata": {},
   "outputs": [],
   "source": [
    "def getVerbSimilarityPortion(r1, r2):\n",
    "    vs1 = getVerbLemmas(r1)\n",
    "    vs2 = getVerbLemmas(r2)\n",
    "    if len(vs1) < 1 or len(vs2) < 1:\n",
    "        return 'low'\n",
    "    num1 = 0\n",
    "    for n in vs1:\n",
    "        for m in vs2:\n",
    "            if n == m:\n",
    "                num1 = num1 + 1\n",
    "                break\n",
    "    if len(vs1) > 0:\n",
    "        ovlap = num1/len(vs1)\n",
    "    else:\n",
    "        ovlap = 0\n",
    "    if ovlap < 0.2:\n",
    "        ovlap = 0\n",
    "    elif 0.2 <= ovlap < 0.4:\n",
    "        ovlap = 0.3\n",
    "    elif 0.4 <= ovlap < 0.6:\n",
    "        ovlap = 0.5\n",
    "    elif 0.6 <= ovlap < 0.8:\n",
    "        ovlap = 0.7\n",
    "    elif 0.8 <= ovlap:\n",
    "        ovlap = 1\n",
    "    return ovlap"
   ]
  },
  {
   "cell_type": "code",
   "execution_count": 17,
   "metadata": {},
   "outputs": [],
   "source": [
    "def getVSPFeatures(r1, r2):\n",
    "    res = {'verb_ovlap_1_2' : getVerbSimilarityPortion(r1, r2), 'verb_ovlap_2_1' : getVerbSimilarityPortion(r2, r1)}\n",
    "    return res"
   ]
  },
  {
   "cell_type": "code",
   "execution_count": 18,
   "metadata": {},
   "outputs": [],
   "source": [
    "def getRootLemma(r):\n",
    "    doc = nlp(r)\n",
    "    for t in doc:\n",
    "        if t.dep_ == 'ROOT':\n",
    "            return t.lemma_\n",
    "    return 'nothing'\n"
   ]
  },
  {
   "cell_type": "code",
   "execution_count": 19,
   "metadata": {},
   "outputs": [],
   "source": [
    "def getModalityType(r):\n",
    "    doc = nlp(r)\n",
    "    mvs = []\n",
    "    root_lemma = 'nothing'\n",
    "    for t in doc:\n",
    "        #print(t.lemma_ + t.tag_ + t.dep_)\n",
    "        if t.lemma_ == 'be':\n",
    "            if t.dep_ == 'ROOT':\n",
    "                return 'fact_be'\n",
    "        elif t.lemma_ == 'have':\n",
    "            if t.dep_ == 'ROOT':\n",
    "                if doc[t.i + 1].lemma_ == 'to':\n",
    "                    return 'obligatory'\n",
    "                else:\n",
    "                    return 'fact_hv'\n",
    "        elif t.lemma_ == 'need':\n",
    "            if t.dep_ == 'ROOT':\n",
    "                return 'fact_need'\n",
    "        elif t.tag_.startswith('MD'):\n",
    "            if t.head.dep_ == 'ROOT':\n",
    "                if t.lemma_ == 'must' or t.lemma_ == 'shall':\n",
    "                    return 'obligatory'\n",
    "                elif t.lemma_ == 'can' or t.lemma_ == 'could':\n",
    "                    return 'ability'\n",
    "                elif t.lemma_ == 'may':\n",
    "                    return 'permission'\n",
    "                elif t.lemma_ == 'should' or t.lemma_ == 'ought':\n",
    "                    return 'advice'\n",
    "                elif t.lemma_ == 'will':\n",
    "                    return 'futurative'\n",
    "    return 'unknown'\n",
    "    "
   ]
  },
  {
   "cell_type": "code",
   "execution_count": 20,
   "metadata": {},
   "outputs": [],
   "source": [
    "def getModalityFeatures(r1, r2):\n",
    "    res = {'M_1': getModalityType(r1), 'root_1': getRootLemma(r1), 'M_2': getModalityType(r2), 'root_2': getRootLemma(r2)}\n",
    "    return res"
   ]
  },
  {
   "cell_type": "code",
   "execution_count": 21,
   "metadata": {},
   "outputs": [],
   "source": [
    "def createFBag(r1, r2):\n",
    "    fbag = getStcSubObjFeatures2(r1, r2)\n",
    "    fbag.update(getNSPFeatures(r1, r2))\n",
    "    fbag.update(getVSPFeatures(r1, r2))\n",
    "    fbag.update(getModalityFeatures(r1, r2))\n",
    "    return fbag\n",
    "\n",
    "def createFBagNoOVLAP(r1, r2):\n",
    "    fbag = getStcSubObjFeatures2(r1, r2)\n",
    "    fbag.update(getModalityFeatures(r1, r2))\n",
    "    return fbag\n",
    "\n",
    "def createFBagNoSUBJOBJ(r1, r2):\n",
    "    fbag = getNSPFeatures(r1, r2)\n",
    "    fbag.update(getVSPFeatures(r1, r2))\n",
    "    fbag.update(getModalityFeatures(r1, r2))\n",
    "    return fbag\n",
    "\n",
    "def createFBagNoModal(r1, r2):\n",
    "    fbag = getStcSubObjFeatures2(r1, r2)\n",
    "    fbag.update(getNSPFeatures(r1, r2))\n",
    "    fbag.update(getVSPFeatures(r1, r2))\n",
    "    return fbag\n"
   ]
  },
  {
   "cell_type": "code",
   "execution_count": 30,
   "metadata": {},
   "outputs": [
    {
     "data": {
      "text/plain": [
       "[0.5,\n",
       " 1,\n",
       " 0,\n",
       " 0,\n",
       " 0,\n",
       " 0,\n",
       " 0,\n",
       " 0,\n",
       " 0,\n",
       " 0,\n",
       " 1,\n",
       " 0.5,\n",
       " 'obligatory',\n",
       " 'be',\n",
       " 'obligatory',\n",
       " 'be']"
      ]
     },
     "execution_count": 30,
     "metadata": {},
     "output_type": "execute_result"
    }
   ],
   "source": [
    "r1 = 'Mode must be either automatic or manual.'\n",
    "r2 = 'Users must be able to set the mode.'\n",
    "features = []\n",
    "tmp = createFBag(r1, r2)\n",
    "for x in tmp:\n",
    "    features.append(tmp[x])\n",
    "features"
   ]
  },
  {
   "cell_type": "code",
   "execution_count": 22,
   "metadata": {},
   "outputs": [
    {
     "data": {
      "text/plain": [
       "{'subjsubj': 0.5,\n",
       " 'subjobj': 1,\n",
       " 'objsubj': 0,\n",
       " 'objobj': 0,\n",
       " 'asubjsubj': 0,\n",
       " 'asubjobj': 0,\n",
       " 'aobjsubj': 0,\n",
       " 'aobjobj': 0,\n",
       " 'noun_ovlap_1_2': 0,\n",
       " 'noun_ovlap_2_1': 0,\n",
       " 'verb_ovlap_1_2': 1,\n",
       " 'verb_ovlap_2_1': 0.5,\n",
       " 'M_1': 'obligatory',\n",
       " 'root_1': 'be',\n",
       " 'M_2': 'obligatory',\n",
       " 'root_2': 'be'}"
      ]
     },
     "execution_count": 22,
     "metadata": {},
     "output_type": "execute_result"
    }
   ],
   "source": [
    "#createFBag('Setting the mode to its current value must have no effect on irrigation.', 'Users must be able to set the mode.')\n",
    "createFBag('Mode must be either automatic or manual.', 'Users must be able to set the mode.')"
   ]
  }
 ],
 "metadata": {
  "kernelspec": {
   "display_name": "Python 3",
   "language": "python",
   "name": "python3"
  },
  "language_info": {
   "codemirror_mode": {
    "name": "ipython",
    "version": 3
   },
   "file_extension": ".py",
   "mimetype": "text/x-python",
   "name": "python",
   "nbconvert_exporter": "python",
   "pygments_lexer": "ipython3",
   "version": "3.7.4"
  }
 },
 "nbformat": 4,
 "nbformat_minor": 2
}
