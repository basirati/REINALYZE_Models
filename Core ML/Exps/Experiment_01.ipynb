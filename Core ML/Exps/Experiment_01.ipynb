{
 "cells": [
  {
   "cell_type": "code",
   "execution_count": 1,
   "metadata": {},
   "outputs": [
    {
     "name": "stderr",
     "output_type": "stream",
     "text": [
      "Using TensorFlow backend.\n"
     ]
    }
   ],
   "source": [
    "#IMPORTING LIBRARIES\n",
    "\n",
    "import Feature_Extraction as fe\n",
    "import Utils\n",
    "\n",
    "from sklearn import model_selection, preprocessing, linear_model, naive_bayes, metrics, svm\n",
    "from sklearn.feature_extraction.text import TfidfVectorizer, CountVectorizer\n",
    "from sklearn import decomposition, ensemble\n",
    "\n",
    "import pandas, xgboost, numpy, textblob, string\n",
    "from keras.preprocessing import text, sequence\n",
    "from keras import layers, models, optimizers\n",
    "\n",
    "from sklearn.model_selection import train_test_split\n",
    "from sklearn.model_selection import GridSearchCV\n",
    "from sklearn.metrics import classification_report\n",
    "\n",
    "from sklearn.model_selection import StratifiedKFold\n",
    "from sklearn.model_selection import StratifiedShuffleSplit\n",
    "from sklearn.model_selection import cross_validate\n",
    "from sklearn import metrics\n",
    "from sklearn import tree\n",
    "\n",
    "import sklearn.metrics\n",
    "import numpy as np\n",
    "import matplotlib.pyplot as plt\n",
    "from sklearn.metrics import precision_recall_fscore_support\n",
    "from sklearn.model_selection import train_test_split\n",
    "\n",
    "from sklearn.feature_extraction import DictVectorizer"
   ]
  },
  {
   "cell_type": "code",
   "execution_count": 2,
   "metadata": {},
   "outputs": [],
   "source": [
    "# load the dataset\n",
    "\n",
    "data = open('data/tousend_cons_rels.CSV', encoding=\"ANSI\").read()\n",
    "label, r1, r2, rmix = [], [], [], []\n",
    "size = 500\n",
    "for i, line in enumerate(data.split(\"\\n\")):\n",
    "    if i >= size:\n",
    "        break\n",
    "    if line != '' and line.isspace() != True:\n",
    "        content = line.split(';')\n",
    "        label.append(content[0])\n",
    "        r1.append(content[1])\n",
    "        r2.append(content[2])\n",
    "        rmix.append(content[1]+content[2])"
   ]
  },
  {
   "cell_type": "code",
   "execution_count": 3,
   "metadata": {},
   "outputs": [],
   "source": [
    "index = 0\n",
    "size = len(label)\n",
    "x = []\n",
    "while index < size:\n",
    "    x.append(fe.createFBag(r1[index], r2[index]))\n",
    "    index = index + 1"
   ]
  },
  {
   "cell_type": "code",
   "execution_count": 4,
   "metadata": {},
   "outputs": [],
   "source": [
    "vec = DictVectorizer()\n",
    "\n",
    "xx = vec.fit_transform(x).toarray()"
   ]
  },
  {
   "cell_type": "code",
   "execution_count": 5,
   "metadata": {},
   "outputs": [],
   "source": [
    "yy = []\n",
    "for l in label:\n",
    "    if l == 'true':\n",
    "        yy.append(1)\n",
    "    else:\n",
    "        yy.append(-1)"
   ]
  },
  {
   "cell_type": "code",
   "execution_count": 6,
   "metadata": {},
   "outputs": [],
   "source": [
    "#naive_bayes.MultinomialNB()\n",
    "#BernoulliNB\n",
    "#xgboost.XGBClassifier()\n",
    "#svm.SVC(kernel='linear', C=1, random_state=0)\n",
    "#tree.DecisionTreeClassifier()\n",
    "#SGDClassifier(loss=\"hinge\", penalty=\"l2\", max_iter=5)\n",
    "#GaussianNB()\n",
    "from sklearn.linear_model import SGDClassifier\n",
    "from sklearn.neighbors.nearest_centroid import NearestCentroid\n",
    "from sklearn.naive_bayes import GaussianNB\n",
    "from sklearn.naive_bayes import BernoulliNB\n",
    "from sklearn.svm import SVC"
   ]
  },
  {
   "cell_type": "code",
   "execution_count": 7,
   "metadata": {},
   "outputs": [],
   "source": [
    "clf_ME = ensemble.ExtraTreesClassifier(n_estimators=10, max_depth=None, min_samples_split=2, random_state=0)\n",
    "clf_NC = NearestCentroid()\n",
    "clf_SVM1 = svm.SVC(kernel='linear', C=1, random_state=0)\n",
    "clf_SVM2 = svm.SVC(gamma='scale')\n",
    "clf_LR = linear_model.Ridge(alpha=.5)\n",
    "clf_SGDC = SGDClassifier(loss=\"hinge\", penalty=\"l2\", max_iter=5)"
   ]
  },
  {
   "cell_type": "code",
   "execution_count": 15,
   "metadata": {},
   "outputs": [],
   "source": [
    "clf = SVC(C=100, gamma=0.001, kernel= 'rbf')\n",
    "kfold = 10\n",
    "skf = StratifiedShuffleSplit(n_splits=kfold)\n",
    "sets = []\n",
    "for train, test in skf.split(xx, yy):\n",
    "    sets.append({'x':train, 'y':test})\n",
    "k = 0\n",
    "scores = {'precision': [], 'recall': []}\n",
    "fps_reqs = {'reqs': [], 'freq': []}\n",
    "fns_reqs = {'reqs': [], 'freq': []}\n",
    "while k < kfold:\n",
    "    x_ids = sets[k]['x']\n",
    "    y_ids = sets[k]['y']\n",
    "    x_train = xx[x_ids]\n",
    "    x_test = xx[y_ids]\n",
    "    y_train, y_test = [], []\n",
    "    for i in x_ids:\n",
    "        y_train.append(yy[i])\n",
    "    for i in y_ids:\n",
    "        y_test.append(yy[i])\n",
    "    clf.fit(x_train, y_train)\n",
    "    predictions = clf.predict(x_test)\n",
    "    #pd2 = []\n",
    "    #for p in predictions:\n",
    "    #    if p > 0.3:\n",
    "    #        pd2.append(1)\n",
    "    #    else:\n",
    "    #        pd2.append(-1)\n",
    "    #predictions = pd2\n",
    "    p = metrics.precision_score(y_test, predictions, pos_label=1)\n",
    "    r = metrics.recall_score(y_test, predictions, pos_label=1)\n",
    "    scores['precision'].append(p)\n",
    "    scores['recall'].append(r)\n",
    "    k = k + 1\n",
    "    #ps, ns = getChallengingReqs(y_test, predictions)\n",
    "    #for req_couple in ps:\n",
    "    #    fps_reqs = updateDic(fps_reqs, 'reqs', 'freq', req_couple)\n",
    "    #for req_couple in ns:\n",
    "    #    fns_reqs = updateDic(fns_reqs, 'reqs', 'freq', req_couple)"
   ]
  },
  {
   "cell_type": "code",
   "execution_count": 16,
   "metadata": {},
   "outputs": [
    {
     "name": "stdout",
     "output_type": "stream",
     "text": [
      "Precision: 0.75 (+/- 0.43)\n",
      "Recall: 0.56 (+/- 0.47)\n",
      "F1: 0.64\n"
     ]
    }
   ],
   "source": [
    "p_mean = np.asarray(scores['precision']).mean()\n",
    "r_mean = np.asarray(scores['recall']).mean()\n",
    "f1_mean = 2 * p_mean * r_mean / (p_mean + r_mean)\n",
    "print(\"Precision: %0.2f (+/- %0.2f)\" % (p_mean, np.asarray(scores['precision']).std() * 2))\n",
    "print(\"Recall: %0.2f (+/- %0.2f)\" % (r_mean, np.asarray(scores['recall']).std() * 2))\n",
    "print(\"F1: %0.2f\" % (f1_mean))"
   ]
  },
  {
   "cell_type": "code",
   "execution_count": null,
   "metadata": {},
   "outputs": [],
   "source": []
  }
 ],
 "metadata": {
  "kernelspec": {
   "display_name": "Python 3",
   "language": "python",
   "name": "python3"
  },
  "language_info": {
   "codemirror_mode": {
    "name": "ipython",
    "version": 3
   },
   "file_extension": ".py",
   "mimetype": "text/x-python",
   "name": "python",
   "nbconvert_exporter": "python",
   "pygments_lexer": "ipython3",
   "version": "3.7.4"
  }
 },
 "nbformat": 4,
 "nbformat_minor": 2
}
